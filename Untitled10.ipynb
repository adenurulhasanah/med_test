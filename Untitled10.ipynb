{
  "nbformat": 4,
  "nbformat_minor": 0,
  "metadata": {
    "colab": {
      "provenance": []
    },
    "kernelspec": {
      "name": "python3",
      "display_name": "Python 3"
    },
    "language_info": {
      "name": "python"
    }
  },
  "cells": [
    {
      "cell_type": "markdown",
      "source": [
        "Python 1 : Who is in the third place?"
      ],
      "metadata": {
        "id": "nbG_iEGwyNtE"
      }
    },
    {
      "cell_type": "code",
      "source": [
        "def third_place(names, scores):\n",
        "    combined = dict(zip(names, scores))\n",
        "    sorted_scores = sorted(combined.items(), key=lambda x: x[1], reverse=True)\n",
        "    return sorted_scores[2][0]\n",
        "\n",
        "\n",
        "names = ['Dina', 'Ade', 'Dewi', 'Dila', 'Cucu']\n",
        "scores = [80, 90, 95, 100, 85]\n",
        "print('yang mengisi urutan ke tiga adalah:', third_place(names, scores))"
      ],
      "metadata": {
        "colab": {
          "base_uri": "https://localhost:8080/"
        },
        "id": "792Sy8bq4Pgy",
        "outputId": "5256b00a-b1fc-487a-b5ce-25e28abdeba8"
      },
      "execution_count": 18,
      "outputs": [
        {
          "output_type": "stream",
          "name": "stdout",
          "text": [
            "yang mengisi urutan ke tiga adalah: Ade\n"
          ]
        }
      ]
    },
    {
      "cell_type": "markdown",
      "source": [
        "Python 2 : Find Distance Between Two Coordinates"
      ],
      "metadata": {
        "id": "0DMIFkxd7Ymw"
      }
    },
    {
      "cell_type": "code",
      "source": [],
      "metadata": {
        "id": "RvxvZKh-7jKY"
      },
      "execution_count": null,
      "outputs": []
    }
  ]
}